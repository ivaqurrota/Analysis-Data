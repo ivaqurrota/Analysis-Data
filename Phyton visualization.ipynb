{
  "cells": [
    {
      "cell_type": "markdown",
      "metadata": {
        "id": "view-in-github",
        "colab_type": "text"
      },
      "source": [
        "<a href=\"https://colab.research.google.com/github/ivaqurrota/Analysis-Data/blob/Data-Visualization/Phyton%20visualization.ipynb\" target=\"_parent\"><img src=\"https://colab.research.google.com/assets/colab-badge.svg\" alt=\"Open In Colab\"/></a>"
      ]
    },
    {
      "cell_type": "code",
      "execution_count": null,
      "metadata": {
        "id": "0iLlJLfi1-AU"
      },
      "outputs": [],
      "source": [
        "import pandas as pd\n",
        "import numpy as np\n",
        "import matplotlib.pyplot as plt\n",
        "import seaborn as sns"
      ]
    },
    {
      "cell_type": "code",
      "execution_count": null,
      "metadata": {
        "id": "G7_bpkfO1-AX",
        "outputId": "225a677e-bb77-44c5-d8c0-d6bcea4db150"
      },
      "outputs": [
        {
          "data": {
            "text/html": [
              "<div>\n",
              "<style scoped>\n",
              "    .dataframe tbody tr th:only-of-type {\n",
              "        vertical-align: middle;\n",
              "    }\n",
              "\n",
              "    .dataframe tbody tr th {\n",
              "        vertical-align: top;\n",
              "    }\n",
              "\n",
              "    .dataframe thead th {\n",
              "        text-align: right;\n",
              "    }\n",
              "</style>\n",
              "<table border=\"1\" class=\"dataframe\">\n",
              "  <thead>\n",
              "    <tr style=\"text-align: right;\">\n",
              "      <th></th>\n",
              "      <th>Title</th>\n",
              "      <th>Year</th>\n",
              "      <th>Runtime</th>\n",
              "      <th>MPA_rating</th>\n",
              "      <th>IMDB_rating</th>\n",
              "      <th>TOM_ratings</th>\n",
              "      <th>Gross</th>\n",
              "      <th>Entity</th>\n",
              "    </tr>\n",
              "  </thead>\n",
              "  <tbody>\n",
              "    <tr>\n",
              "      <th>0</th>\n",
              "      <td>Captain America</td>\n",
              "      <td>1944</td>\n",
              "      <td>244</td>\n",
              "      <td>Approved</td>\n",
              "      <td>5.5</td>\n",
              "      <td>250</td>\n",
              "      <td>0</td>\n",
              "      <td>MARVEL</td>\n",
              "    </tr>\n",
              "    <tr>\n",
              "      <th>1</th>\n",
              "      <td>Howard the Duck</td>\n",
              "      <td>1986</td>\n",
              "      <td>110</td>\n",
              "      <td>PG</td>\n",
              "      <td>4.7</td>\n",
              "      <td>50000</td>\n",
              "      <td>16300000</td>\n",
              "      <td>MARVEL</td>\n",
              "    </tr>\n",
              "    <tr>\n",
              "      <th>2</th>\n",
              "      <td>Blade</td>\n",
              "      <td>1998</td>\n",
              "      <td>120</td>\n",
              "      <td>R</td>\n",
              "      <td>7.1</td>\n",
              "      <td>250000</td>\n",
              "      <td>70090000</td>\n",
              "      <td>MARVEL</td>\n",
              "    </tr>\n",
              "    <tr>\n",
              "      <th>3</th>\n",
              "      <td>X-Men</td>\n",
              "      <td>2000</td>\n",
              "      <td>104</td>\n",
              "      <td>PG-13</td>\n",
              "      <td>7.4</td>\n",
              "      <td>250000</td>\n",
              "      <td>157300000</td>\n",
              "      <td>MARVEL</td>\n",
              "    </tr>\n",
              "    <tr>\n",
              "      <th>4</th>\n",
              "      <td>Blade II</td>\n",
              "      <td>2002</td>\n",
              "      <td>117</td>\n",
              "      <td>R</td>\n",
              "      <td>6.7</td>\n",
              "      <td>250000</td>\n",
              "      <td>82350000</td>\n",
              "      <td>MARVEL</td>\n",
              "    </tr>\n",
              "  </tbody>\n",
              "</table>\n",
              "</div>"
            ],
            "text/plain": [
              "             Title  Year  Runtime MPA_rating  IMDB_rating  TOM_ratings  \\\n",
              "0  Captain America  1944      244   Approved          5.5          250   \n",
              "1  Howard the Duck  1986      110         PG          4.7        50000   \n",
              "2            Blade  1998      120          R          7.1       250000   \n",
              "3            X-Men  2000      104      PG-13          7.4       250000   \n",
              "4         Blade II  2002      117          R          6.7       250000   \n",
              "\n",
              "       Gross  Entity  \n",
              "0          0  MARVEL  \n",
              "1   16300000  MARVEL  \n",
              "2   70090000  MARVEL  \n",
              "3  157300000  MARVEL  \n",
              "4   82350000  MARVEL  "
            ]
          },
          "execution_count": 11,
          "metadata": {},
          "output_type": "execute_result"
        }
      ],
      "source": [
        "data = pd.read_csv(\"DATA.csv\",delimiter=';')\n",
        "data.head()"
      ]
    },
    {
      "cell_type": "code",
      "execution_count": null,
      "metadata": {
        "id": "NLJKfhbF1-AY",
        "outputId": "d87026a4-4459-4270-fd93-0cefd3d51e11"
      },
      "outputs": [
        {
          "data": {
            "text/plain": [
              "(90, 8)"
            ]
          },
          "execution_count": 12,
          "metadata": {},
          "output_type": "execute_result"
        }
      ],
      "source": [
        "data.shape"
      ]
    },
    {
      "cell_type": "code",
      "execution_count": null,
      "metadata": {
        "scrolled": true,
        "id": "IEdlL4Be1-AZ",
        "outputId": "47688627-750d-41c9-8dc1-f7bbeba6dea3"
      },
      "outputs": [
        {
          "name": "stdout",
          "output_type": "stream",
          "text": [
            "<class 'pandas.core.frame.DataFrame'>\n",
            "RangeIndex: 90 entries, 0 to 89\n",
            "Data columns (total 8 columns):\n",
            " #   Column       Non-Null Count  Dtype  \n",
            "---  ------       --------------  -----  \n",
            " 0   Title        90 non-null     object \n",
            " 1   Year         90 non-null     int64  \n",
            " 2   Runtime      90 non-null     int64  \n",
            " 3   MPA_rating   90 non-null     object \n",
            " 4   IMDB_rating  90 non-null     float64\n",
            " 5   TOM_ratings  90 non-null     int64  \n",
            " 6   Gross        90 non-null     int64  \n",
            " 7   Entity       90 non-null     object \n",
            "dtypes: float64(1), int64(4), object(3)\n",
            "memory usage: 5.8+ KB\n"
          ]
        }
      ],
      "source": [
        "data.info()"
      ]
    },
    {
      "cell_type": "code",
      "execution_count": null,
      "metadata": {
        "scrolled": true,
        "id": "nC_6V4P_1-AZ",
        "outputId": "d6a36374-554e-4deb-ff65-04acef02b228"
      },
      "outputs": [
        {
          "data": {
            "text/plain": [
              "0     5.5\n",
              "1     4.7\n",
              "2     7.1\n",
              "3     7.4\n",
              "4     6.7\n",
              "     ... \n",
              "85    6.9\n",
              "86    7.0\n",
              "87    8.4\n",
              "88    6.1\n",
              "89    5.4\n",
              "Name: IMDB_rating, Length: 90, dtype: float64"
            ]
          },
          "execution_count": 16,
          "metadata": {},
          "output_type": "execute_result"
        }
      ],
      "source": [
        "pd.to_numeric(data[\"IMDB_rating\"])"
      ]
    },
    {
      "cell_type": "code",
      "execution_count": null,
      "metadata": {
        "id": "niUpAsXT1-AZ"
      },
      "outputs": [],
      "source": [
        "data[\"TOM_ratings\"]=data[\"TOM_ratings\"]/100000"
      ]
    },
    {
      "cell_type": "code",
      "execution_count": null,
      "metadata": {
        "id": "h0A5tlu61-Aa",
        "outputId": "f06b732f-5c4e-48cb-a7bd-068766b0e7b8"
      },
      "outputs": [
        {
          "data": {
            "text/plain": [
              "<AxesSubplot:xlabel='MPA_rating', ylabel='TOM_ratings'>"
            ]
          },
          "execution_count": 35,
          "metadata": {},
          "output_type": "execute_result"
        },
        {
          "data": {
            "image/png": "[encoded data removed]",
            "text/plain": [
              "<Figure size 1080x360 with 2 Axes>"
            ]
          },
          "metadata": {
            "needs_background": "light"
          },
          "output_type": "display_data"
        }
      ],
      "source": [
        "#Plot Rating\n",
        "fig, axes = plt.subplots(1, 2, figsize=(15, 5), sharey=True)\n",
        "    \n",
        "sns.violinplot(ax=axes[0], x=data[\"MPA_rating\"], y=data[\"IMDB_rating\"],hue=data[\"Entity\"], palette=\"Set3\",split=True)\n",
        "\n",
        "sns.violinplot(ax=axes[1], x=data[\"MPA_rating\"], y=data[\"TOM_ratings\"],hue=data[\"Entity\"], palette=\"pastel\", split=True)"
      ]
    },
    {
      "cell_type": "code",
      "execution_count": null,
      "metadata": {
        "id": "kx3V0I_p1-Aa",
        "outputId": "9d02adba-8485-44d2-d618-2d8e0c629408"
      },
      "outputs": [
        {
          "name": "stderr",
          "output_type": "stream",
          "text": [
            "C:\\Users\\Iva\\anaconda3\\lib\\site-packages\\seaborn\\distributions.py:2551: FutureWarning: `distplot` is a deprecated function and will be removed in a future version. Please adapt your code to use either `displot` (a figure-level function with similar flexibility) or `histplot` (an axes-level function for histograms).\n",
            "  warnings.warn(msg, FutureWarning)\n"
          ]
        },
        {
          "data": {
            "text/plain": [
              "<AxesSubplot:xlabel='Gross', ylabel='Density'>"
            ]
          },
          "execution_count": 36,
          "metadata": {},
          "output_type": "execute_result"
        },
        {
          "data": {
            "image/png": "[encoded data removed]",
            "text/plain": [
              "<Figure size 432x288 with 1 Axes>"
            ]
          },
          "metadata": {
            "needs_background": "light"
          },
          "output_type": "display_data"
        }
      ],
      "source": [
        "#Plot Gross\n",
        "sns.set_color_codes()\n",
        "hist= sns.distplot(data[\"Gross\"], bins=10, kde=True, color=\"y\", hist_kws={'edgecolor':'orange'}, kde_kws={'linewidth': 2})\n",
        "hist"
      ]
    },
    {
      "cell_type": "code",
      "execution_count": null,
      "metadata": {
        "id": "pVdoesdp1-Ab",
        "outputId": "3c14e091-1389-4e53-ea05-0e36af748ac0"
      },
      "outputs": [
        {
          "data": {
            "text/plain": [
              "<AxesSubplot:xlabel='Entity', ylabel='Runtime'>"
            ]
          },
          "execution_count": 42,
          "metadata": {},
          "output_type": "execute_result"
        },
        {
          "data": {
            "image/png": "[encoded data removed]",
            "text/plain": [
              "<Figure size 432x288 with 1 Axes>"
            ]
          },
          "metadata": {
            "needs_background": "light"
          },
          "output_type": "display_data"
        }
      ],
      "source": [
        "#Plot Runtime\n",
        "boxplot1 = sns.boxplot(x=data['Entity'], y=data['Runtime'], palette= \"viridis\")\n",
        "boxplot1"
      ]
    },
    {
      "cell_type": "code",
      "execution_count": null,
      "metadata": {
        "id": "8RheHaLw1-Ab",
        "outputId": "72413ad3-6513-47ee-e079-f3bda2f28cde"
      },
      "outputs": [
        {
          "name": "stderr",
          "output_type": "stream",
          "text": [
            "C:\\Users\\Iva\\anaconda3\\lib\\site-packages\\seaborn\\_decorators.py:36: FutureWarning: Pass the following variables as keyword args: x, y. From version 0.12, the only valid positional argument will be `data`, and passing other arguments without an explicit keyword will result in an error or misinterpretation.\n",
            "  warnings.warn(\n"
          ]
        },
        {
          "data": {
            "image/png": "[encoded data removed]",
            "text/plain": [
              "<Figure size 432x288 with 1 Axes>"
            ]
          },
          "metadata": {
            "needs_background": "light"
          },
          "output_type": "display_data"
        }
      ],
      "source": [
        "ax = sns.barplot(data['MPA_rating'].value_counts().index, data['MPA_rating'] .value_counts().values, palette=\"pastel\", alpha=0.90)\n",
        "# label each bar in barplot\n",
        "for p in ax.patches:\n",
        " # get the height of each bar\n",
        " height = p.get_height()\n",
        " # adding text to each bar\n",
        " ax.text(x = p.get_x()+(p.get_width()/2), # x-coordinate position of data label, padded to be in the middle of the bar\n",
        " y = height, # y-coordinate position of data label, padded 100 above bar\n",
        " s = '{:.0f}'.format(height), # data label, formatted to ignore decimals\n",
        " ha = 'center') # sets horizontal alignment (ha) to center"
      ]
    }
  ],
  "metadata": {
    "kernelspec": {
      "display_name": "Python 3",
      "language": "python",
      "name": "python3"
    },
    "language_info": {
      "codemirror_mode": {
        "name": "ipython",
        "version": 3
      },
      "file_extension": ".py",
      "mimetype": "text/x-python",
      "name": "python",
      "nbconvert_exporter": "python",
      "pygments_lexer": "ipython3",
      "version": "3.8.5"
    },
    "colab": {
      "provenance": [],
      "include_colab_link": true
    }
  },
  "nbformat": 4,
  "nbformat_minor": 0
}